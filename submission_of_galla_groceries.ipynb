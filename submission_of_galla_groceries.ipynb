{
  "nbformat": 4,
  "nbformat_minor": 0,
  "metadata": {
    "colab": {
      "provenance": [],
      "authorship_tag": "ABX9TyN72uNR+gxpfsWPXI7YAQ3U",
      "include_colab_link": true
    },
    "kernelspec": {
      "name": "python3",
      "display_name": "Python 3"
    },
    "language_info": {
      "name": "python"
    }
  },
  "cells": [
    {
      "cell_type": "markdown",
      "metadata": {
        "id": "view-in-github",
        "colab_type": "text"
      },
      "source": [
        "<a href=\"https://colab.research.google.com/github/HassanRiaz1992/Machine-Learning-through-Pycaret/blob/main/submission_of_galla_groceries.ipynb\" target=\"_parent\"><img src=\"https://colab.research.google.com/assets/colab-badge.svg\" alt=\"Open In Colab\"/></a>"
      ]
    },
    {
      "cell_type": "code",
      "source": [
        "!pip install pycaret\n",
        "\"\"\" Pycaret is a low code auto ML which not only helps for modeling but it also supports preprocessing and feature engineering. Furhter it also helps in tunning and deployment of the model. \"\"\""
      ],
      "metadata": {
        "id": "f4hNFAJcmqSg"
      },
      "execution_count": null,
      "outputs": []
    },
    {
      "cell_type": "code",
      "source": [
        "# Load the Data\n",
        "def load_data(path: str = \"/path/to/csv/\"):\n",
        "  df = pd.read_csv(f\"{path}\")\n",
        "  df.drop(columns=[\"Unnamed: 0\"], inplace=True, errors='ignore')\n",
        "  return df"
      ],
      "metadata": {
        "id": "fLly-rBylG-5"
      },
      "execution_count": null,
      "outputs": []
    },
    {
      "cell_type": "code",
      "source": [
        "# gives us the information about the features, null values  and data type.\n",
        "df.info()"
      ],
      "metadata": {
        "id": "kbKTW6d9mHdQ"
      },
      "execution_count": null,
      "outputs": []
    },
    {
      "cell_type": "code",
      "source": [
        "# gives information about the Features for first 5 rows\n",
        "df.head()"
      ],
      "metadata": {
        "id": "xzuA9OCtmMxh"
      },
      "execution_count": null,
      "outputs": []
    },
    {
      "cell_type": "code",
      "source": [
        "# gives information about features with integer values i.e. there count value, mean, Median, Mode, Minimum No, Maximum No and Standard Deviation\n",
        "df.describe()"
      ],
      "metadata": {
        "id": "io2FBrmLmJaQ"
      },
      "execution_count": null,
      "outputs": []
    },
    {
      "cell_type": "code",
      "source": [
        "# import modeule of regression from pycaret\n",
        "from pycaret.regression import *"
      ],
      "metadata": {
        "id": "xTJfvVDRmO6A"
      },
      "execution_count": null,
      "outputs": []
    },
    {
      "cell_type": "code",
      "source": [
        "# Preprocessing of data \"\"\" Data for preprocessing is df and target variable y is \"estimated_stock_pct\" than data is normalized through minmax scaller. After that multicollinearity is removed from features then most important features are selected through feature selection. Further, the data splits into train test with default ration (80:20).\"\"\"\"\n",
        "clf = setup(data= df, target = \"estimated_stock_pct\", session_id=1498, normalize = True,normalize_method='minmax', remove_multicollinearity = True,feature_selection = True)"
      ],
      "metadata": {
        "id": "wUcGyVNVma3K"
      },
      "execution_count": null,
      "outputs": []
    },
    {
      "cell_type": "code",
      "source": [
        "# Several Models are developed with scores upto 10 folds for Mean Absolute Error, Mean Square Error and R square\n",
        "best = compare_models()"
      ],
      "metadata": {
        "id": "W3QDCpbsmgKA"
      },
      "execution_count": null,
      "outputs": []
    },
    {
      "cell_type": "code",
      "source": [
        "# Best model can be choose from the above models and evaluate visually for further analysis. Here, Random Forest model is expected to perform better\n",
        "model = create_model('rf')\n",
        "evaluate_model(model)"
      ],
      "metadata": {
        "id": "3pF9VKkbmiy4"
      },
      "execution_count": null,
      "outputs": []
    },
    {
      "cell_type": "code",
      "source": [
        "# It tunes the model for efficient Prediction\n",
        "tuned_dt = tune_model(dt)"
      ],
      "metadata": {
        "id": "PuXvVX1JmlGK"
      },
      "execution_count": null,
      "outputs": []
    },
    {
      "cell_type": "code",
      "source": [
        "# launch dashboard\n",
        "dashboard(rf)"
      ],
      "metadata": {
        "id": "s0rxNQa8sl-6"
      },
      "execution_count": null,
      "outputs": []
    },
    {
      "cell_type": "code",
      "source": [
        "# predict on X Test\n",
        "predict_model(rf)"
      ],
      "metadata": {
        "id": "TrA3cf19t2uw"
      },
      "execution_count": null,
      "outputs": []
    },
    {
      "cell_type": "code",
      "source": [
        "# finalize a model\n",
        "finalize_model(rf)"
      ],
      "metadata": {
        "id": "YG_dTQ3ZuV4_"
      },
      "execution_count": null,
      "outputs": []
    }
  ]
}